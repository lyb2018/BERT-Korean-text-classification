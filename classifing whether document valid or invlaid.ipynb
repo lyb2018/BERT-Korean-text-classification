{
 "cells": [
  {
   "cell_type": "code",
   "execution_count": 1,
   "id": "b93d0e1b",
   "metadata": {},
   "outputs": [
    {
     "name": "stderr",
     "output_type": "stream",
     "text": [
      "C:\\Users\\User\\anaconda3\\envs\\nlp\\lib\\site-packages\\tensorflow_addons\\utils\\ensure_tf_install.py:67: UserWarning: Tensorflow Addons supports using Python ops for all Tensorflow versions above or equal to 2.7.0 and strictly below 2.10.0 (nightly versions are not supported). \n",
      " The versions of TensorFlow you are currently using is 2.10.0 and is not supported. \n",
      "Some things might work, some things might not.\n",
      "If you were to encounter a bug, do not file an issue.\n",
      "If you want to make sure you're using a tested and supported configuration, either change the TensorFlow version or the TensorFlow Addons's version. \n",
      "You can find the compatibility matrix in TensorFlow Addon's readme:\n",
      "https://github.com/tensorflow/addons\n",
      "  UserWarning,\n"
     ]
    }
   ],
   "source": [
    "import os\n",
    "import pandas as pd\n",
    "import numpy as np\n",
    "import re\n",
    "from tqdm import tqdm\n",
    "# import urllib.request\n",
    "import seaborn as sns\n",
    "import matplotlib.pyplot as plt\n",
    "import tensorflow_addons as tfa\n",
    "import tensorflow as tf\n",
    "from tensorflow.keras.callbacks import EarlyStopping, ModelCheckpoint\n",
    "from transformers import BertTokenizer, TFBertForSequenceClassification\n",
    "from sklearn.model_selection import train_test_split\n",
    "from sklearn.metrics import accuracy_score, f1_score, precision_score, recall_score, \\\n",
    "                            roc_auc_score, confusion_matrix, classification_report, \\\n",
    "                            matthews_corrcoef, cohen_kappa_score, log_loss"
   ]
  },
  {
   "cell_type": "markdown",
   "id": "010f61be",
   "metadata": {},
   "source": [
    "## 유효 문서 전처리 후 특정 컬럼 값 통합 dataframe 생성"
   ]
  },
  {
   "cell_type": "code",
   "execution_count": null,
   "id": "734ecacb",
   "metadata": {},
   "outputs": [],
   "source": [
    "valid_df1 = pd.read_excel('./dataset/valid/valid1.xls')\n",
    "valid_df2 = pd.read_excel('./dataset/valid/valid2.xls')\n",
    "valid_df3 = pd.read_excel('./dataset/valid/valid3.xls')\n",
    "valid_df4 = pd.read_excel('./dataset/valid/valid4.xls')\n",
    "valid_df5 = pd.read_excel('./dataset/valid/valid5.xls')\n",
    "valid_df6 = pd.read_excel('./dataset/valid/valid6.xls')\n",
    "valid_df7 = pd.read_excel('./dataset/valid/valid7.xls')\n",
    "valid_df8 = pd.read_excel('./dataset/valid/valid8.xls')"
   ]
  },
  {
   "cell_type": "code",
   "execution_count": null,
   "id": "a5f85e27",
   "metadata": {},
   "outputs": [],
   "source": [
    "valid_df1.head()"
   ]
  },
  {
   "cell_type": "code",
   "execution_count": null,
   "id": "037405fc",
   "metadata": {},
   "outputs": [],
   "source": [
    "valid_list = [valid_df1[['요약']],valid_df2[['요약']],valid_df3[['요약']],valid_df4[['요약']],valid_df5[['요약']],valid_df6[['요약']],valid_df7[['요약']],valid_df8[['요약']]]"
   ]
  },
  {
   "cell_type": "code",
   "execution_count": null,
   "id": "26854af0",
   "metadata": {},
   "outputs": [],
   "source": [
    "valid_df = pd.concat(valid_list,ignore_index=True)"
   ]
  },
  {
   "cell_type": "code",
   "execution_count": null,
   "id": "28637fc3",
   "metadata": {},
   "outputs": [],
   "source": [
    "valid_df['label'] = 1"
   ]
  },
  {
   "cell_type": "code",
   "execution_count": null,
   "id": "c9c3458a",
   "metadata": {},
   "outputs": [],
   "source": [
    "valid_df"
   ]
  },
  {
   "cell_type": "code",
   "execution_count": null,
   "id": "d79d826b",
   "metadata": {},
   "outputs": [],
   "source": [
    "valid_df.info()"
   ]
  },
  {
   "cell_type": "markdown",
   "id": "4df334e7",
   "metadata": {},
   "source": [
    "## 비유효 문서 전처리 후 특정 컬럼 값 통합 dataframe 생성"
   ]
  },
  {
   "cell_type": "code",
   "execution_count": null,
   "id": "75882541",
   "metadata": {},
   "outputs": [],
   "source": [
    "invalid_df1 = pd.read_excel('./dataset/invalid/invalid1.xls')\n",
    "invalid_df2 = pd.read_excel('./dataset/invalid/invalid2.xls')\n",
    "invalid_df3 = pd.read_excel('./dataset/invalid/invalid3.xls')\n",
    "invalid_df4 = pd.read_excel('./dataset/invalid/invalid4.xls')\n",
    "invalid_df5 = pd.read_excel('./dataset/invalid/invalid5.xls')"
   ]
  },
  {
   "cell_type": "code",
   "execution_count": null,
   "id": "7be5ac49",
   "metadata": {},
   "outputs": [],
   "source": [
    "invalid_list = [invalid_df1[['요약']],invalid_df2[['요약']],invalid_df3[['요약']],invalid_df4[['요약']],invalid_df5[['요약']]]"
   ]
  },
  {
   "cell_type": "code",
   "execution_count": null,
   "id": "67f6c61a",
   "metadata": {},
   "outputs": [],
   "source": [
    "invalid_df = pd.concat(invalid_list, ignore_index=True)"
   ]
  },
  {
   "cell_type": "code",
   "execution_count": null,
   "id": "ce3fd108",
   "metadata": {},
   "outputs": [],
   "source": [
    "invalid_df['label'] = 0"
   ]
  },
  {
   "cell_type": "code",
   "execution_count": null,
   "id": "f0b57cbf",
   "metadata": {},
   "outputs": [],
   "source": [
    "invalid_df"
   ]
  },
  {
   "cell_type": "code",
   "execution_count": null,
   "id": "4f93636c",
   "metadata": {},
   "outputs": [],
   "source": [
    "invalid_df.info()"
   ]
  },
  {
   "cell_type": "code",
   "execution_count": null,
   "id": "c3226265",
   "metadata": {},
   "outputs": [],
   "source": [
    "doc_df = pd.concat([valid_df, invalid_df], ignore_index=True)"
   ]
  },
  {
   "cell_type": "code",
   "execution_count": null,
   "id": "00e97436",
   "metadata": {},
   "outputs": [],
   "source": [
    "doc_df"
   ]
  },
  {
   "cell_type": "markdown",
   "id": "2be72413",
   "metadata": {},
   "source": [
    "## 통합 데이터 셋을 csv file로 저장"
   ]
  },
  {
   "cell_type": "code",
   "execution_count": null,
   "id": "72586a26",
   "metadata": {},
   "outputs": [],
   "source": [
    "doc_df.to_csv('preprocessed.csv', encoding='utf-8-sig')"
   ]
  },
  {
   "cell_type": "code",
   "execution_count": null,
   "id": "321c01bf",
   "metadata": {},
   "outputs": [],
   "source": [
    "check_df = pd.read_csv('preprocessed.csv', index_col=0)\n",
    "check_df"
   ]
  },
  {
   "cell_type": "code",
   "execution_count": null,
   "id": "0d39273c",
   "metadata": {},
   "outputs": [],
   "source": [
    "check_df.rename(columns={'요약':'sentence'}, inplace=True)\n",
    "check_df"
   ]
  },
  {
   "cell_type": "code",
   "execution_count": null,
   "id": "f35e26e9",
   "metadata": {},
   "outputs": [],
   "source": [
    "### 결측치 확인\n",
    "check_df.info()"
   ]
  },
  {
   "cell_type": "code",
   "execution_count": null,
   "id": "8341912f",
   "metadata": {},
   "outputs": [],
   "source": [
    "### 결측치 제거\n",
    "check_df.replace(' ', np.nan)\n",
    "df_tmp = check_df.dropna()"
   ]
  },
  {
   "cell_type": "code",
   "execution_count": null,
   "id": "0dbcf6de",
   "metadata": {},
   "outputs": [],
   "source": [
    "### 결측치 제거 확인\n",
    "df_tmp.info()"
   ]
  },
  {
   "cell_type": "code",
   "execution_count": null,
   "id": "0f21aca5",
   "metadata": {},
   "outputs": [],
   "source": [
    "invalid_sentence_list = list(df_tmp[df_tmp.sentence.apply(len)<10].index)\n",
    "invalid_sentence_list"
   ]
  },
  {
   "cell_type": "code",
   "execution_count": null,
   "id": "b64536c2",
   "metadata": {},
   "outputs": [],
   "source": [
    "df = df_tmp.drop(invalid_sentence_list)\n",
    "\n",
    "df"
   ]
  },
  {
   "cell_type": "markdown",
   "id": "7b2c42f7",
   "metadata": {},
   "source": [
    "## 전처리 완료 데이터를 csv file로 저장"
   ]
  },
  {
   "cell_type": "code",
   "execution_count": null,
   "id": "c0f9f107",
   "metadata": {},
   "outputs": [],
   "source": [
    "# df.to_csv('preprocessed_final.csv', encoding='utf-8-sig')"
   ]
  },
  {
   "cell_type": "code",
   "execution_count": 2,
   "id": "29472aa3",
   "metadata": {},
   "outputs": [
    {
     "data": {
      "text/html": [
       "<div>\n",
       "<style scoped>\n",
       "    .dataframe tbody tr th:only-of-type {\n",
       "        vertical-align: middle;\n",
       "    }\n",
       "\n",
       "    .dataframe tbody tr th {\n",
       "        vertical-align: top;\n",
       "    }\n",
       "\n",
       "    .dataframe thead th {\n",
       "        text-align: right;\n",
       "    }\n",
       "</style>\n",
       "<table border=\"1\" class=\"dataframe\">\n",
       "  <thead>\n",
       "    <tr style=\"text-align: right;\">\n",
       "      <th></th>\n",
       "      <th>sentence</th>\n",
       "      <th>label</th>\n",
       "    </tr>\n",
       "  </thead>\n",
       "  <tbody>\n",
       "    <tr>\n",
       "      <th>0</th>\n",
       "      <td>본 발명은 2종 이상의 생약 추출물을 유효성분으로 포함하는, 면역력 증진용 조성물 ...</td>\n",
       "      <td>1</td>\n",
       "    </tr>\n",
       "    <tr>\n",
       "      <th>1</th>\n",
       "      <td>본 발명은 타히보 추출물 및 팔각회향을 유효성분으로 포함하는 면역 증진용 조성물에 ...</td>\n",
       "      <td>1</td>\n",
       "    </tr>\n",
       "    <tr>\n",
       "      <th>2</th>\n",
       "      <td>본 출원은 신규한 터키 겨우살이의 추출물, 렉틴 및 상기 추출물 또는 렉틴의 제조방...</td>\n",
       "      <td>1</td>\n",
       "    </tr>\n",
       "    <tr>\n",
       "      <th>3</th>\n",
       "      <td>아로니아(Aronia) 열매 추출물, 댕댕이나무(Lonicera caerulea) ...</td>\n",
       "      <td>1</td>\n",
       "    </tr>\n",
       "    <tr>\n",
       "      <th>4</th>\n",
       "      <td>본 발명의 청각 추출물 및 홍삼 추출물을 포함하는 선천성 면역 증진용 조성물에 관한...</td>\n",
       "      <td>1</td>\n",
       "    </tr>\n",
       "    <tr>\n",
       "      <th>...</th>\n",
       "      <td>...</td>\n",
       "      <td>...</td>\n",
       "    </tr>\n",
       "    <tr>\n",
       "      <th>13110</th>\n",
       "      <td>히카마 및 루바브의 항산화 효능을 함유하고, 여주의 쓴맛을 보완하기 위해 설탕의 대...</td>\n",
       "      <td>0</td>\n",
       "    </tr>\n",
       "    <tr>\n",
       "      <th>13111</th>\n",
       "      <td>본 발명은 주 영양성분이 열량 탄수화물인 떡볶이 떡에 항비만 및 항당뇨 등에 효과가...</td>\n",
       "      <td>0</td>\n",
       "    </tr>\n",
       "    <tr>\n",
       "      <th>13112</th>\n",
       "      <td>본 발명은 상백피 추출물이 함유된 떡볶이 소스 및 그 제조방법에 관한 것으로 더욱 ...</td>\n",
       "      <td>0</td>\n",
       "    </tr>\n",
       "    <tr>\n",
       "      <th>13113</th>\n",
       "      <td>본 발명은 AMPK 활성을 가지는 청국장 펩타이드에 관한 것으로서, 더욱 상세하게는...</td>\n",
       "      <td>0</td>\n",
       "    </tr>\n",
       "    <tr>\n",
       "      <th>13114</th>\n",
       "      <td>본 발명은 김치에서 분리한 신규 유산균 균주 및 이를 포함하는 조성물에 관한 것으로...</td>\n",
       "      <td>0</td>\n",
       "    </tr>\n",
       "  </tbody>\n",
       "</table>\n",
       "<p>13067 rows × 2 columns</p>\n",
       "</div>"
      ],
      "text/plain": [
       "                                                sentence  label\n",
       "0      본 발명은 2종 이상의 생약 추출물을 유효성분으로 포함하는, 면역력 증진용 조성물 ...      1\n",
       "1      본 발명은 타히보 추출물 및 팔각회향을 유효성분으로 포함하는 면역 증진용 조성물에 ...      1\n",
       "2      본 출원은 신규한 터키 겨우살이의 추출물, 렉틴 및 상기 추출물 또는 렉틴의 제조방...      1\n",
       "3      아로니아(Aronia) 열매 추출물, 댕댕이나무(Lonicera caerulea) ...      1\n",
       "4      본 발명의 청각 추출물 및 홍삼 추출물을 포함하는 선천성 면역 증진용 조성물에 관한...      1\n",
       "...                                                  ...    ...\n",
       "13110  히카마 및 루바브의 항산화 효능을 함유하고, 여주의 쓴맛을 보완하기 위해 설탕의 대...      0\n",
       "13111  본 발명은 주 영양성분이 열량 탄수화물인 떡볶이 떡에 항비만 및 항당뇨 등에 효과가...      0\n",
       "13112  본 발명은 상백피 추출물이 함유된 떡볶이 소스 및 그 제조방법에 관한 것으로 더욱 ...      0\n",
       "13113  본 발명은 AMPK 활성을 가지는 청국장 펩타이드에 관한 것으로서, 더욱 상세하게는...      0\n",
       "13114  본 발명은 김치에서 분리한 신규 유산균 균주 및 이를 포함하는 조성물에 관한 것으로...      0\n",
       "\n",
       "[13067 rows x 2 columns]"
      ]
     },
     "execution_count": 2,
     "metadata": {},
     "output_type": "execute_result"
    }
   ],
   "source": [
    "df = pd.read_csv('preprocessed_final.csv', index_col=0)\n",
    "df"
   ]
  },
  {
   "cell_type": "markdown",
   "id": "c4e1bb8c",
   "metadata": {},
   "source": [
    "### 데이터 분포 확인"
   ]
  },
  {
   "cell_type": "code",
   "execution_count": null,
   "id": "ed34c0cf",
   "metadata": {},
   "outputs": [],
   "source": [
    "df.label.value_counts().plot(kind='bar')\n",
    "plt.xlabel(\"label\")\n",
    "plt.ylabel(\"number\")"
   ]
  },
  {
   "cell_type": "code",
   "execution_count": null,
   "id": "14b85622",
   "metadata": {},
   "outputs": [],
   "source": [
    "df.label.value_counts(normalize=True).plot(kind='bar')\n",
    "plt.xlabel(\"label\")\n",
    "plt.ylabel(\"number\")"
   ]
  },
  {
   "cell_type": "code",
   "execution_count": null,
   "id": "b36786ea",
   "metadata": {},
   "outputs": [],
   "source": [
    "df.label.value_counts(normalize=True)"
   ]
  },
  {
   "cell_type": "markdown",
   "id": "b8f28f3e",
   "metadata": {},
   "source": [
    "## text classification 모델 학습"
   ]
  },
  {
   "cell_type": "markdown",
   "id": "7172925a",
   "metadata": {},
   "source": [
    "### train/test 데이터 분리"
   ]
  },
  {
   "cell_type": "code",
   "execution_count": 3,
   "id": "95239e70",
   "metadata": {},
   "outputs": [],
   "source": [
    "# 입출력 데이터 분리\n",
    "x_data = df['sentence']\n",
    "y_data = df['label']\n",
    "\n",
    "# split dataset\n",
    "TEST_SIZE = 0.2\n",
    "RANDOM_STATE = 99\n",
    "\n",
    "# strtify이용 , 데이터 분리 이전의 라벨별 분포 고려\n",
    "x_train, x_test, y_train, y_test = train_test_split(x_data, \n",
    "                                                    y_data, \n",
    "                                                    test_size=TEST_SIZE,\n",
    "                                                    random_state=RANDOM_STATE,\n",
    "                                                    stratify=y_data)"
   ]
  },
  {
   "cell_type": "code",
   "execution_count": 4,
   "id": "88ed9c55",
   "metadata": {},
   "outputs": [
    {
     "name": "stdout",
     "output_type": "stream",
     "text": [
      "the number of train data = 10453\n",
      "the number of test data = 2614\n",
      "1    0.612169\n",
      "0    0.387831\n",
      "Name: label, dtype: float64\n",
      "1    0.612089\n",
      "0    0.387911\n",
      "Name: label, dtype: float64\n"
     ]
    }
   ],
   "source": [
    "# 데이터 분리 확인\n",
    "print(f\"the number of train data = {len(x_train)}\")\n",
    "print(f\"the number of test data = {len(x_test)}\")\n",
    "\n",
    "# 훈련 데이터 라벨별 비율\n",
    "print(y_train.value_counts(normalize=True))\n",
    "\n",
    "# 테스트 데이터 라벨별 비율\n",
    "print(y_test.value_counts(normalize=True))"
   ]
  },
  {
   "cell_type": "markdown",
   "id": "66dfa23f",
   "metadata": {},
   "source": [
    "### GPU 작동확인"
   ]
  },
  {
   "cell_type": "code",
   "execution_count": 5,
   "id": "7eddd8a3",
   "metadata": {},
   "outputs": [
    {
     "name": "stdout",
     "output_type": "stream",
     "text": [
      "GPU 작동 중\n",
      "INFO:tensorflow:Using MirroredStrategy with devices ('/job:localhost/replica:0/task:0/device:GPU:0',)\n"
     ]
    }
   ],
   "source": [
    "device_name = tf.test.gpu_device_name()\n",
    "if device_name == '/device:GPU:0':\n",
    "  print(\"GPU 작동 중\")\n",
    "  mirrored_strategy = tf.distribute.MirroredStrategy()\n",
    "else:\n",
    "  print(\"GPU 미작동 중\")"
   ]
  },
  {
   "cell_type": "markdown",
   "id": "b1ada8b9",
   "metadata": {},
   "source": [
    "### 언어모델 및 Tokenizer 불러오기"
   ]
  },
  {
   "cell_type": "code",
   "execution_count": 6,
   "id": "b2f259a3",
   "metadata": {},
   "outputs": [
    {
     "name": "stderr",
     "output_type": "stream",
     "text": [
      "Some weights of the PyTorch model were not used when initializing the TF 2.0 model TFBertForSequenceClassification: ['bert.embeddings.position_ids']\n",
      "- This IS expected if you are initializing TFBertForSequenceClassification from a PyTorch model trained on another task or with another architecture (e.g. initializing a TFBertForSequenceClassification model from a BertForPreTraining model).\n",
      "- This IS NOT expected if you are initializing TFBertForSequenceClassification from a PyTorch model that you expect to be exactly identical (e.g. initializing a TFBertForSequenceClassification model from a BertForSequenceClassification model).\n",
      "Some weights or buffers of the TF 2.0 model TFBertForSequenceClassification were not initialized from the PyTorch model and are newly initialized: ['classifier.weight', 'classifier.bias']\n",
      "You should probably TRAIN this model on a down-stream task to be able to use it for predictions and inference.\n"
     ]
    }
   ],
   "source": [
    "MODEL_NAME = \"klue/bert-base\"\n",
    "model = TFBertForSequenceClassification.from_pretrained(MODEL_NAME, num_labels=2, from_pt=True)\n",
    "tokenizer = BertTokenizer.from_pretrained(MODEL_NAME)"
   ]
  },
  {
   "cell_type": "markdown",
   "id": "a085c0c7",
   "metadata": {},
   "source": [
    "### 적절한 입력 문장 길이 설정"
   ]
  },
  {
   "cell_type": "code",
   "execution_count": 10,
   "id": "7ed9c268",
   "metadata": {},
   "outputs": [],
   "source": [
    "# tokenizing을 통해 입력 token의 수 확인\n",
    "# 입력 파라미터인 텍스트 데이터는 반드시 List 형태로 입력해야 tokenizer가 작동함(dataframe 형태는 안됨)\n",
    "\n",
    "train_encodings = tokenizer(x_train.tolist(), truncation=True, padding=True)\n",
    "val_encodings = tokenizer(x_test.tolist(), truncation=True, padding=True)"
   ]
  },
  {
   "cell_type": "code",
   "execution_count": 11,
   "id": "be07a0da",
   "metadata": {},
   "outputs": [
    {
     "data": {
      "text/plain": [
       "dict_keys(['input_ids', 'token_type_ids', 'attention_mask'])"
      ]
     },
     "execution_count": 11,
     "metadata": {},
     "output_type": "execute_result"
    }
   ],
   "source": [
    "train_encodings.keys()"
   ]
  },
  {
   "cell_type": "code",
   "execution_count": 12,
   "id": "8c686634",
   "metadata": {},
   "outputs": [
    {
     "name": "stdout",
     "output_type": "stream",
     "text": [
      "문장 tokens 개수 최대 값: 470\n",
      "문장 tokens 개수 평균 값: 470.00\n",
      "문장 tokens 개수 표준편차: 0.00\n",
      "문장 tokens 개수 중간 값: 470.0\n",
      "문장 tokens 개수 제 1 사분위: 470.0\n",
      "문장 tokens 개수 제 3 사분위: 470.0\n",
      "문장 tokens 개수 99 퍼센트: 470.0\n",
      "문장 tokens 개수 최대 값: 449\n",
      "문장 tokens 개수 평균 값: 449.00\n",
      "문장 tokens 개수 표준편차: 0.00\n",
      "문장 tokens 개수 중간 값: 449.0\n",
      "문장 tokens 개수 제 1 사분위: 449.0\n",
      "문장 tokens 개수 제 3 사분위: 449.0\n",
      "문장 tokens 개수 99 퍼센트: 449.0\n"
     ]
    }
   ],
   "source": [
    "num_train_tokens_len = [len(sent) for sent in train_encodings['input_ids']]\n",
    "num_val_tokens_len = [len(sent) for sent in val_encodings['input_ids']]\n",
    "\n",
    "print('문장 tokens 개수 최대 값: {}'.format(np.max(num_train_tokens_len)))\n",
    "print('문장 tokens 개수 평균 값: {:.2f}'.format(np.mean(num_train_tokens_len)))\n",
    "print('문장 tokens 개수 표준편차: {:.2f}'.format(np.std(num_train_tokens_len)))\n",
    "print('문장 tokens 개수 중간 값: {}'.format(np.median(num_train_tokens_len)))\n",
    "print('문장 tokens 개수 제 1 사분위: {}'.format(np.percentile(num_train_tokens_len, 25)))\n",
    "print('문장 tokens 개수 제 3 사분위: {}'.format(np.percentile(num_train_tokens_len, 75)))\n",
    "print('문장 tokens 개수 99 퍼센트: {}'.format(np.percentile(num_train_tokens_len, 99)))\n",
    "\n",
    "print('문장 tokens 개수 최대 값: {}'.format(np.max(num_val_tokens_len)))\n",
    "print('문장 tokens 개수 평균 값: {:.2f}'.format(np.mean(num_val_tokens_len)))\n",
    "print('문장 tokens 개수 표준편차: {:.2f}'.format(np.std(num_val_tokens_len)))\n",
    "print('문장 tokens 개수 중간 값: {}'.format(np.median(num_val_tokens_len)))\n",
    "print('문장 tokens 개수 제 1 사분위: {}'.format(np.percentile(num_val_tokens_len, 25)))\n",
    "print('문장 tokens 개수 제 3 사분위: {}'.format(np.percentile(num_val_tokens_len, 75)))\n",
    "print('문장 tokens 개수 99 퍼센트: {}'.format(np.percentile(num_val_tokens_len, 99)))"
   ]
  },
  {
   "cell_type": "code",
   "execution_count": 13,
   "id": "55b02d2e",
   "metadata": {},
   "outputs": [],
   "source": [
    "# 입력 데이터(문장) 길이 제한\n",
    "MAX_SEQ_LEN = 470\n",
    "# MAX_SEQ_LEN = 380"
   ]
  },
  {
   "cell_type": "markdown",
   "id": "fea11cd3",
   "metadata": {},
   "source": [
    "### BERT 입력용 데이터 포맷으로 변경"
   ]
  },
  {
   "cell_type": "code",
   "execution_count": 14,
   "id": "1c0439f7",
   "metadata": {},
   "outputs": [],
   "source": [
    "def convert_data(X_data, y_data):\n",
    "    # BERT 입력으로 들어가는 token, mask, segment, target 저장용 리스트\n",
    "    tokens, masks, segments, targets = [], [], [], []\n",
    "    \n",
    "    for X, y in tqdm(zip(X_data, y_data)):\n",
    "        # token: 입력 문장 토큰화\n",
    "        token = tokenizer.encode(X, truncation = True, padding = 'max_length', max_length = MAX_SEQ_LEN)\n",
    "        \n",
    "        # Mask: 토큰화한 문장 내 패딩이 아닌 경우 1, 패딩인 경우 0으로 초기화\n",
    "        num_zeros = token.count(0)\n",
    "        mask = [1] * (MAX_SEQ_LEN - num_zeros) + [0] * num_zeros\n",
    "        \n",
    "        # segment: 문장 전후관계 구분: 오직 한 문장이므로 모두 0으로 초기화\n",
    "        segment = [0]*MAX_SEQ_LEN\n",
    "\n",
    "        tokens.append(token)\n",
    "        masks.append(mask)\n",
    "        segments.append(segment)\n",
    "        targets.append(y)\n",
    "\n",
    "    # numpy array로 저장\n",
    "    tokens = np.array(tokens)\n",
    "    masks = np.array(masks)\n",
    "    segments = np.array(segments)\n",
    "    targets = np.array(targets)\n",
    "\n",
    "    return [tokens, masks, segments], targets"
   ]
  },
  {
   "cell_type": "code",
   "execution_count": 15,
   "id": "1093fa34",
   "metadata": {},
   "outputs": [
    {
     "name": "stderr",
     "output_type": "stream",
     "text": [
      "10453it [00:08, 1201.27it/s]\n"
     ]
    }
   ],
   "source": [
    "# train 데이터를 Bert의 Input 타입에 맞게 변환\n",
    "train_x, train_y = convert_data(x_train, y_train)"
   ]
  },
  {
   "cell_type": "code",
   "execution_count": 16,
   "id": "4665d56a",
   "metadata": {},
   "outputs": [
    {
     "name": "stderr",
     "output_type": "stream",
     "text": [
      "2614it [00:02, 1187.86it/s]\n"
     ]
    }
   ],
   "source": [
    "# test 데이터를 Bert의 Input 타입에 맞게 변환\n",
    "test_x, test_y = convert_data(x_test, y_test)"
   ]
  },
  {
   "cell_type": "markdown",
   "id": "694e4061",
   "metadata": {},
   "source": [
    "### model finetuning"
   ]
  },
  {
   "cell_type": "code",
   "execution_count": 25,
   "id": "9a6d7e3e",
   "metadata": {},
   "outputs": [],
   "source": [
    "# token, mask, segment 입력 정의\n",
    "token_inputs = tf.keras.layers.Input((MAX_SEQ_LEN,), dtype = tf.int32, name = 'input_ids')\n",
    "mask_inputs = tf.keras.layers.Input((MAX_SEQ_LEN,), dtype = tf.int32, name = 'input_masks')\n",
    "segment_inputs = tf.keras.layers.Input((MAX_SEQ_LEN,), dtype = tf.int32, name = 'input_segment')\n",
    "bert_outputs = model([token_inputs, mask_inputs, segment_inputs])"
   ]
  },
  {
   "cell_type": "code",
   "execution_count": 26,
   "id": "f2329b67",
   "metadata": {},
   "outputs": [
    {
     "data": {
      "text/plain": [
       "TFSequenceClassifierOutput(loss=None, logits=<KerasTensor: shape=(None, 2) dtype=float32 (created by layer 'tf_bert_for_sequence_classification')>, hidden_states=None, attentions=None)"
      ]
     },
     "execution_count": 26,
     "metadata": {},
     "output_type": "execute_result"
    }
   ],
   "source": [
    "bert_outputs"
   ]
  },
  {
   "cell_type": "code",
   "execution_count": 27,
   "id": "1a1ec0ef",
   "metadata": {},
   "outputs": [
    {
     "data": {
      "text/plain": [
       "<KerasTensor: shape=(None, 2) dtype=float32 (created by layer 'tf_bert_for_sequence_classification')>"
      ]
     },
     "execution_count": 27,
     "metadata": {},
     "output_type": "execute_result"
    }
   ],
   "source": [
    "bert_output = bert_outputs[0]\n",
    "bert_output"
   ]
  },
  {
   "cell_type": "code",
   "execution_count": 28,
   "id": "721404f4",
   "metadata": {},
   "outputs": [],
   "source": [
    "DROPOUT_RATE = 0.5\n",
    "NUM_CLASS = 2\n",
    "dropout = tf.keras.layers.Dropout(DROPOUT_RATE)(bert_output)\n",
    "# binary classification 문제이므로 activation function은 sigmoid 설정\n",
    "classification_layer = tf.keras.layers.Dense(NUM_CLASS, activation='sigmoid', kernel_initializer = tf.keras.initializers.TruncatedNormal(stddev=0.02))(dropout)\n",
    "# classification_layer = tf.keras.layers.Dense(NUM_CLASS, activation='softmax', kernel_initializer = tf.keras.initializers.TruncatedNormal(stddev=0.02))(dropout)\n",
    "classification_model = tf.keras.Model([token_inputs, mask_inputs, segment_inputs], classification_layer)"
   ]
  },
  {
   "cell_type": "code",
   "execution_count": 29,
   "id": "7f4302e1",
   "metadata": {},
   "outputs": [],
   "source": [
    "# 옵티마이저 Rectified Adam 하이퍼파리미터 조정\n",
    "OPTIMIZER_NAME = 'RAdam'\n",
    "LEARNING_RATE = 5e-5\n",
    "TOTAL_STEPS = 10000\n",
    "MIN_LR = 1e-5\n",
    "WARMUP_PROPORTION = 0.1\n",
    "EPSILON = 1e-8\n",
    "CLIPNORM = 1.0\n",
    "optimizer = tfa.optimizers.RectifiedAdam(learning_rate = LEARNING_RATE,\n",
    "                                          total_steps = TOTAL_STEPS, \n",
    "                                          warmup_proportion = WARMUP_PROPORTION, \n",
    "                                          min_lr = MIN_LR, \n",
    "                                          epsilon = EPSILON,\n",
    "                                          clipnorm = CLIPNORM)"
   ]
  },
  {
   "cell_type": "code",
   "execution_count": 30,
   "id": "4f5e09ce",
   "metadata": {},
   "outputs": [],
   "source": [
    "# 분류 모델 컴파일\n",
    "classification_model.compile(optimizer = optimizer, \n",
    "                             loss = tf.keras.losses.SparseCategoricalCrossentropy(), \n",
    "                             metrics = ['accuracy'])"
   ]
  },
  {
   "cell_type": "code",
   "execution_count": 31,
   "id": "8f0006e8",
   "metadata": {},
   "outputs": [],
   "source": [
    "# 조기종료 조건\n",
    "\n",
    "MIN_DELTA = 1e-3\n",
    "PATIENCE = 5\n",
    "\n",
    "early_stopping = EarlyStopping(\n",
    "    monitor = \"val_accuracy\", \n",
    "    min_delta = MIN_DELTA,\n",
    "    patience = PATIENCE)"
   ]
  },
  {
   "cell_type": "code",
   "execution_count": 32,
   "id": "02bc7e89",
   "metadata": {},
   "outputs": [],
   "source": [
    "# 최고 성능 모델 저장\n",
    "\n",
    "BEST_MODEL_NAME = './model/klue_base_maxlen_best_model.h5'\n",
    "\n",
    "model_checkpoint = ModelCheckpoint(\n",
    "    filepath = BEST_MODEL_NAME,\n",
    "    monitor = \"val_loss\",\n",
    "    mode = \"min\",\n",
    "    save_best_only = True, # 성능 향상 시에만 모델 저장\n",
    "    verbose = 1\n",
    ")"
   ]
  },
  {
   "cell_type": "code",
   "execution_count": 33,
   "id": "8bf9614e",
   "metadata": {},
   "outputs": [],
   "source": [
    "callbacks = [early_stopping, model_checkpoint]"
   ]
  },
  {
   "cell_type": "code",
   "execution_count": 36,
   "id": "9081c4cf",
   "metadata": {},
   "outputs": [],
   "source": [
    "# 특허 분류 모델 학습\n",
    "\n",
    "EPOCHS = 300\n",
    "BATCH_SZIE = 16"
   ]
  },
  {
   "cell_type": "code",
   "execution_count": 37,
   "id": "a1257ebc",
   "metadata": {},
   "outputs": [
    {
     "name": "stdout",
     "output_type": "stream",
     "text": [
      "Epoch 1/300\n",
      "654/654 [==============================] - ETA: 0s - loss: 0.6083 - accuracy: 0.6960\n",
      "Epoch 1: val_loss improved from inf to 0.46154, saving model to ./model\\klue_base_maxlen_best_model.h5\n",
      "654/654 [==============================] - 386s 589ms/step - loss: 0.6083 - accuracy: 0.6960 - val_loss: 0.4615 - val_accuracy: 0.8569\n",
      "Epoch 2/300\n",
      "654/654 [==============================] - ETA: 0s - loss: 0.4283 - accuracy: 0.8248\n",
      "Epoch 2: val_loss improved from 0.46154 to 0.33698, saving model to ./model\\klue_base_maxlen_best_model.h5\n",
      "654/654 [==============================] - 380s 582ms/step - loss: 0.4283 - accuracy: 0.8248 - val_loss: 0.3370 - val_accuracy: 0.8730\n",
      "Epoch 3/300\n",
      "654/654 [==============================] - ETA: 0s - loss: 0.3683 - accuracy: 0.8373\n",
      "Epoch 3: val_loss improved from 0.33698 to 0.31157, saving model to ./model\\klue_base_maxlen_best_model.h5\n",
      "654/654 [==============================] - 381s 583ms/step - loss: 0.3683 - accuracy: 0.8373 - val_loss: 0.3116 - val_accuracy: 0.8871\n",
      "Epoch 4/300\n",
      "654/654 [==============================] - ETA: 0s - loss: 0.3352 - accuracy: 0.8528\n",
      "Epoch 4: val_loss improved from 0.31157 to 0.23844, saving model to ./model\\klue_base_maxlen_best_model.h5\n",
      "654/654 [==============================] - 380s 582ms/step - loss: 0.3352 - accuracy: 0.8528 - val_loss: 0.2384 - val_accuracy: 0.9132\n",
      "Epoch 5/300\n",
      "654/654 [==============================] - ETA: 0s - loss: 0.3077 - accuracy: 0.8589\n",
      "Epoch 5: val_loss did not improve from 0.23844\n",
      "654/654 [==============================] - 380s 581ms/step - loss: 0.3077 - accuracy: 0.8589 - val_loss: 0.2986 - val_accuracy: 0.9028\n",
      "Epoch 6/300\n",
      "654/654 [==============================] - ETA: 0s - loss: 0.2872 - accuracy: 0.8697\n",
      "Epoch 6: val_loss did not improve from 0.23844\n",
      "654/654 [==============================] - 379s 580ms/step - loss: 0.2872 - accuracy: 0.8697 - val_loss: 0.2400 - val_accuracy: 0.9181\n",
      "Epoch 7/300\n",
      "654/654 [==============================] - ETA: 0s - loss: 0.2601 - accuracy: 0.8770\n",
      "Epoch 7: val_loss improved from 0.23844 to 0.22495, saving model to ./model\\klue_base_maxlen_best_model.h5\n",
      "654/654 [==============================] - 381s 583ms/step - loss: 0.2601 - accuracy: 0.8770 - val_loss: 0.2249 - val_accuracy: 0.9132\n",
      "Epoch 8/300\n",
      "654/654 [==============================] - ETA: 0s - loss: 0.2510 - accuracy: 0.8808\n",
      "Epoch 8: val_loss improved from 0.22495 to 0.20741, saving model to ./model\\klue_base_maxlen_best_model.h5\n",
      "654/654 [==============================] - 381s 582ms/step - loss: 0.2510 - accuracy: 0.8808 - val_loss: 0.2074 - val_accuracy: 0.9193\n",
      "Epoch 9/300\n",
      "654/654 [==============================] - ETA: 0s - loss: 0.2261 - accuracy: 0.8866\n",
      "Epoch 9: val_loss did not improve from 0.20741\n",
      "654/654 [==============================] - 380s 581ms/step - loss: 0.2261 - accuracy: 0.8866 - val_loss: 0.2649 - val_accuracy: 0.9189\n",
      "Epoch 10/300\n",
      "654/654 [==============================] - ETA: 0s - loss: 0.2185 - accuracy: 0.8893\n",
      "Epoch 10: val_loss did not improve from 0.20741\n",
      "654/654 [==============================] - 383s 585ms/step - loss: 0.2185 - accuracy: 0.8893 - val_loss: 0.2674 - val_accuracy: 0.9178\n",
      "Epoch 11/300\n",
      "654/654 [==============================] - ETA: 0s - loss: 0.2103 - accuracy: 0.8890\n",
      "Epoch 11: val_loss did not improve from 0.20741\n",
      "654/654 [==============================] - 381s 583ms/step - loss: 0.2103 - accuracy: 0.8890 - val_loss: 0.2815 - val_accuracy: 0.9189\n",
      "Epoch 12/300\n",
      "654/654 [==============================] - ETA: 0s - loss: 0.1997 - accuracy: 0.9010\n",
      "Epoch 12: val_loss did not improve from 0.20741\n",
      "654/654 [==============================] - 380s 580ms/step - loss: 0.1997 - accuracy: 0.9010 - val_loss: 0.3461 - val_accuracy: 0.9132\n",
      "Epoch 13/300\n",
      "654/654 [==============================] - ETA: 0s - loss: 0.1957 - accuracy: 0.8955\n",
      "Epoch 13: val_loss did not improve from 0.20741\n",
      "654/654 [==============================] - 380s 581ms/step - loss: 0.1957 - accuracy: 0.8955 - val_loss: 0.3517 - val_accuracy: 0.9158\n"
     ]
    },
    {
     "data": {
      "text/plain": [
       "<keras.callbacks.History at 0x217c6ff4248>"
      ]
     },
     "execution_count": 37,
     "metadata": {},
     "output_type": "execute_result"
    }
   ],
   "source": [
    "classification_model.fit(train_x, train_y, \n",
    "                         epochs = EPOCHS, \n",
    "                         shuffle = True, \n",
    "                         batch_size = BATCH_SZIE, \n",
    "                         validation_data = (test_x, test_y),\n",
    "                         callbacks = callbacks\n",
    "                        )"
   ]
  },
  {
   "cell_type": "markdown",
   "id": "94160685",
   "metadata": {},
   "source": [
    "## 문서 분류 모델의 성능 평가"
   ]
  },
  {
   "cell_type": "code",
   "execution_count": null,
   "id": "1c1e7397",
   "metadata": {},
   "outputs": [],
   "source": [
    "# 최고 성능의 모델 불러오기 - sigmoid\n",
    "classification_model_best = tf.keras.models.load_model(BEST_MODEL_NAME,\n",
    "                                                       custom_objects={'TFBertForSequenceClassification': TFBertForSequenceClassification})"
   ]
  },
  {
   "cell_type": "code",
   "execution_count": 38,
   "id": "06719b97",
   "metadata": {},
   "outputs": [],
   "source": [
    "# 최고 성능의 모델 불러오기 - sigmoid, maxlen\n",
    "classification_model_best = tf.keras.models.load_model(BEST_MODEL_NAME,\n",
    "                                                       custom_objects={'TFBertForSequenceClassification': TFBertForSequenceClassification})"
   ]
  },
  {
   "cell_type": "code",
   "execution_count": 39,
   "id": "be55ba9f",
   "metadata": {},
   "outputs": [
    {
     "name": "stdout",
     "output_type": "stream",
     "text": [
      "82/82 [==============================] - 24s 267ms/step\n"
     ]
    }
   ],
   "source": [
    "# 모델이 예측한 라벨 도출\n",
    "predicted_value = classification_model_best.predict(test_x)\n",
    "predicted_label = np.argmax(predicted_value, axis = 1)"
   ]
  },
  {
   "cell_type": "code",
   "execution_count": null,
   "id": "b7bd5efe",
   "metadata": {},
   "outputs": [],
   "source": [
    "### klue_bert_sigmoid_base 모델에 대한 성능 검증 - Classification Report\n",
    "\n",
    "cl_report = classification_report(test_y, predicted_label, output_dict = True)\n",
    "cl_report_df = pd.DataFrame(cl_report).transpose()\n",
    "cl_report_df = cl_report_df.round(3)\n",
    "print(cl_report_df)"
   ]
  },
  {
   "cell_type": "code",
   "execution_count": 41,
   "id": "3431cd07",
   "metadata": {},
   "outputs": [
    {
     "name": "stdout",
     "output_type": "stream",
     "text": [
      "              precision  recall  f1-score   support\n",
      "0                 0.933   0.853     0.891  1014.000\n",
      "1                 0.912   0.961     0.936  1600.000\n",
      "accuracy          0.919   0.919     0.919     0.919\n",
      "macro avg         0.922   0.907     0.914  2614.000\n",
      "weighted avg      0.920   0.919     0.919  2614.000\n"
     ]
    }
   ],
   "source": [
    "### klue_bert_sigmoid_maxlen_base 모델에 대한 성능 검증 - Classification Report\n",
    "\n",
    "cl_report = classification_report(test_y, predicted_label, output_dict = True)\n",
    "cl_report_df = pd.DataFrame(cl_report).transpose()\n",
    "cl_report_df = cl_report_df.round(3)\n",
    "print(cl_report_df)"
   ]
  },
  {
   "cell_type": "code",
   "execution_count": 42,
   "id": "045312b0",
   "metadata": {
    "scrolled": true
   },
   "outputs": [
    {
     "data": {
      "image/png": "[encoded data removed]",
      "text/plain": [
       "<Figure size 576x432 with 2 Axes>"
      ]
     },
     "metadata": {
      "needs_background": "light"
     },
     "output_type": "display_data"
    }
   ],
   "source": [
    "### klue_bert_sigmoid_base 모델에 대한 성능 검증 - confusion_matrix\n",
    "cf_matrix = confusion_matrix(test_y, predicted_label)\n",
    "fig, ax = plt.subplots(figsize = (8,6))\n",
    "sns.heatmap(cf_matrix, annot = True, fmt = 'd')\n",
    "plt.ylabel('Actual')\n",
    "plt.xlabel('Predicted')\n",
    "# plt.savefig(FIGURE_FILE)\n",
    "plt.show()"
   ]
  }
 ],
 "metadata": {
  "kernelspec": {
   "display_name": "Python 3 (ipykernel)",
   "language": "python",
   "name": "python3"
  },
  "language_info": {
   "codemirror_mode": {
    "name": "ipython",
    "version": 3
   },
   "file_extension": ".py",
   "mimetype": "text/x-python",
   "name": "python",
   "nbconvert_exporter": "python",
   "pygments_lexer": "ipython3",
   "version": "3.7.13"
  }
 },
 "nbformat": 4,
 "nbformat_minor": 5
}
